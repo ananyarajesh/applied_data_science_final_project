{
 "cells": [
  {
   "cell_type": "code",
   "execution_count": 3,
   "id": "e9103fb3",
   "metadata": {},
   "outputs": [],
   "source": [
    "#import packages\n",
    "import pandas as pd\n",
    "import geopandas as gpd\n",
    "import censusdata\n",
    "import requests\n",
    "from shapely.geometry import shape, Point\n",
    "import numpy as np\n",
    "import matplotlib\n",
    "import matplotlib.pyplot as plt\n",
    "import urllib.request, json\n",
    "import requests\n",
    "import urllib.parse\n",
    "import datetime\n",
    "\n",
    "import warnings\n",
    "warnings.filterwarnings('ignore')"
   ]
  },
  {
   "cell_type": "code",
   "execution_count": 44,
   "id": "ac7cb0dd",
   "metadata": {},
   "outputs": [],
   "source": [
    "#define column name variables\n",
    "property_value_variable = \"B25077_001E\"\n",
    "income_variable = \"B19013_001E\"\n",
    "rent_variable = \"B25064_001E\"\n",
    "\n",
    "#define census tract info\n",
    "# Define the FIPS codes for the counties in New York City\n",
    "nyc_counties = ['061', '047', '005', '085', '081']\n",
    "#try just for manhattan first\n",
    "nyc_geo = censusdata.censusgeo([('state', '36'), ('county', '061'), ('tract', '*')])\n",
    "\n",
    "# nyc_tracts = []\n",
    "# for county in nyc_counties:\n",
    "#     geo = censusdata.censusgeo([('state', '36'), ('county', county), ('tract', '*')])\n",
    "#     data = censusdata.geographies(geo, 'acs5', 2019)\n",
    "#     nyc_tracts += [list(data.values())[i].params()[2][1] for i in range(len(data))]\n",
    "    \n",
    "# # Create a censusgeo object for the merged list of tracts\n",
    "# nyc_geo = censusdata.censusgeo([('tract', tract) for tract in nyc_tracts])"
   ]
  },
  {
   "cell_type": "code",
   "execution_count": 37,
   "id": "250b5186",
   "metadata": {},
   "outputs": [
    {
     "data": {
      "text/plain": [
       "['025500',\n",
       " '022200',\n",
       " '001001',\n",
       " '000700',\n",
       " '010300',\n",
       " '003700',\n",
       " '008601',\n",
       " '008603',\n",
       " '004400',\n",
       " '008602']"
      ]
     },
     "execution_count": 37,
     "metadata": {},
     "output_type": "execute_result"
    }
   ],
   "source": [
    "nyc_tracts[0:10]"
   ]
  },
  {
   "cell_type": "code",
   "execution_count": 69,
   "id": "7a9a62e4",
   "metadata": {},
   "outputs": [
    {
     "name": "stdout",
     "output_type": "stream",
     "text": [
      "1950 ACS1 Unsuccessful\n",
      "1950 ACS5 Unsuccessful\n",
      "1951 ACS1 Unsuccessful\n",
      "1951 ACS5 Unsuccessful\n",
      "1952 ACS1 Unsuccessful\n",
      "1952 ACS5 Unsuccessful\n",
      "1953 ACS1 Unsuccessful\n",
      "1953 ACS5 Unsuccessful\n",
      "1954 ACS1 Unsuccessful\n",
      "1954 ACS5 Unsuccessful\n",
      "1955 ACS1 Unsuccessful\n",
      "1955 ACS5 Unsuccessful\n",
      "1956 ACS1 Unsuccessful\n",
      "1956 ACS5 Unsuccessful\n",
      "1957 ACS1 Unsuccessful\n",
      "1957 ACS5 Unsuccessful\n",
      "1958 ACS1 Unsuccessful\n",
      "1958 ACS5 Unsuccessful\n",
      "1959 ACS1 Unsuccessful\n",
      "1959 ACS5 Unsuccessful\n",
      "1960 ACS1 Unsuccessful\n",
      "1960 ACS5 Unsuccessful\n",
      "1961 ACS1 Unsuccessful\n",
      "1961 ACS5 Unsuccessful\n",
      "1962 ACS1 Unsuccessful\n",
      "1962 ACS5 Unsuccessful\n",
      "1963 ACS1 Unsuccessful\n",
      "1963 ACS5 Unsuccessful\n",
      "1964 ACS1 Unsuccessful\n",
      "1964 ACS5 Unsuccessful\n",
      "1965 ACS1 Unsuccessful\n",
      "1965 ACS5 Unsuccessful\n",
      "1966 ACS1 Unsuccessful\n",
      "1966 ACS5 Unsuccessful\n",
      "1967 ACS1 Unsuccessful\n",
      "1967 ACS5 Unsuccessful\n",
      "1968 ACS1 Unsuccessful\n",
      "1968 ACS5 Unsuccessful\n",
      "1969 ACS1 Unsuccessful\n",
      "1969 ACS5 Unsuccessful\n",
      "1970 ACS1 Unsuccessful\n",
      "1970 ACS5 Unsuccessful\n",
      "1971 ACS1 Unsuccessful\n",
      "1971 ACS5 Unsuccessful\n",
      "1972 ACS1 Unsuccessful\n",
      "1972 ACS5 Unsuccessful\n",
      "1973 ACS1 Unsuccessful\n",
      "1973 ACS5 Unsuccessful\n",
      "1974 ACS1 Unsuccessful\n",
      "1974 ACS5 Unsuccessful\n",
      "1975 ACS1 Unsuccessful\n",
      "1975 ACS5 Unsuccessful\n",
      "1976 ACS1 Unsuccessful\n",
      "1976 ACS5 Unsuccessful\n",
      "1977 ACS1 Unsuccessful\n",
      "1977 ACS5 Unsuccessful\n",
      "1978 ACS1 Unsuccessful\n",
      "1978 ACS5 Unsuccessful\n",
      "1979 ACS1 Unsuccessful\n",
      "1979 ACS5 Unsuccessful\n",
      "1980 ACS1 Unsuccessful\n",
      "1980 ACS5 Unsuccessful\n",
      "1981 ACS1 Unsuccessful\n",
      "1981 ACS5 Unsuccessful\n",
      "1982 ACS1 Unsuccessful\n",
      "1982 ACS5 Unsuccessful\n",
      "1983 ACS1 Unsuccessful\n",
      "1983 ACS5 Unsuccessful\n",
      "1984 ACS1 Unsuccessful\n",
      "1984 ACS5 Unsuccessful\n",
      "1985 ACS1 Unsuccessful\n",
      "1985 ACS5 Unsuccessful\n",
      "1986 ACS1 Unsuccessful\n",
      "1986 ACS5 Unsuccessful\n",
      "1987 ACS1 Unsuccessful\n",
      "1987 ACS5 Unsuccessful\n",
      "1988 ACS1 Unsuccessful\n",
      "1988 ACS5 Unsuccessful\n",
      "1989 ACS1 Unsuccessful\n",
      "1989 ACS5 Unsuccessful\n",
      "1990 ACS1 Unsuccessful\n",
      "1990 ACS5 Unsuccessful\n",
      "1991 ACS1 Unsuccessful\n",
      "1991 ACS5 Unsuccessful\n",
      "1992 ACS1 Unsuccessful\n",
      "1992 ACS5 Unsuccessful\n",
      "1993 ACS1 Unsuccessful\n",
      "1993 ACS5 Unsuccessful\n",
      "1994 ACS1 Unsuccessful\n",
      "1994 ACS5 Unsuccessful\n",
      "1995 ACS1 Unsuccessful\n",
      "1995 ACS5 Unsuccessful\n",
      "1996 ACS1 Unsuccessful\n",
      "1996 ACS5 Unsuccessful\n",
      "1997 ACS1 Unsuccessful\n",
      "1997 ACS5 Unsuccessful\n",
      "1998 ACS1 Unsuccessful\n",
      "1998 ACS5 Unsuccessful\n",
      "1999 ACS1 Unsuccessful\n",
      "1999 ACS5 Unsuccessful\n",
      "2000 ACS1 Unsuccessful\n",
      "2000 ACS5 Unsuccessful\n",
      "2001 ACS1 Unsuccessful\n",
      "2001 ACS5 Unsuccessful\n",
      "2002 ACS1 Unsuccessful\n",
      "2002 ACS5 Unsuccessful\n",
      "2003 ACS1 Unsuccessful\n",
      "2003 ACS5 Unsuccessful\n",
      "2004 ACS1 Unsuccessful\n",
      "2004 ACS5 Unsuccessful\n",
      "2005 ACS1 Unsuccessful\n",
      "2005 ACS5 Unsuccessful\n",
      "2006 ACS1 Unsuccessful\n",
      "2006 ACS5 Unsuccessful\n",
      "2007 ACS1 Unsuccessful\n",
      "2007 ACS5 Unsuccessful\n",
      "2008 ACS1 Unsuccessful\n",
      "2008 ACS5 Unsuccessful\n",
      "2009 ACS1 Unsuccessful\n",
      "2009 ACS5 Successful\n",
      "2010 ACS1 Unsuccessful\n",
      "2010 ACS5 Successful\n",
      "2011 ACS1 Unsuccessful\n",
      "2011 ACS5 Successful\n",
      "2012 ACS1 Unsuccessful\n",
      "2012 ACS5 Successful\n",
      "2013 ACS1 Unsuccessful\n",
      "2013 ACS5 Successful\n",
      "2014 ACS1 Unsuccessful\n",
      "2014 ACS5 Successful\n",
      "2015 ACS1 Unsuccessful\n",
      "2015 ACS5 Successful\n",
      "2016 ACS1 Unsuccessful\n",
      "2016 ACS5 Successful\n",
      "2017 ACS1 Unsuccessful\n",
      "2017 ACS5 Successful\n",
      "2018 ACS1 Unsuccessful\n",
      "2018 ACS5 Successful\n",
      "2019 ACS1 Unsuccessful\n",
      "2019 ACS5 Successful\n",
      "2020 ACS1 Unsuccessful\n",
      "2020 ACS5 Successful\n"
     ]
    }
   ],
   "source": [
    "start_year = 1950\n",
    "end_year = 2020\n",
    "\n",
    "for year in range(start_year,end_year+1):\n",
    "    try:\n",
    "        censusdata.download('acs1', year, nyc_geo, ['B01001_001E','B25077_001E','B19013_001E'])\n",
    "        print(str(year)+' ACS1 Successful')\n",
    "    except:\n",
    "        print(str(year)+' ACS1 Unsuccessful')\n",
    "    try:\n",
    "        censusdata.download('acs5', year, nyc_geo, ['B01001_001E','B25077_001E','B19013_001E'])\n",
    "        print(str(year)+' ACS5 Successful')\n",
    "    except:\n",
    "        print(str(year)+' ACS5 Unsuccessful')"
   ]
  },
  {
   "cell_type": "code",
   "execution_count": 45,
   "id": "f47f63a3",
   "metadata": {},
   "outputs": [
    {
     "name": "stdout",
     "output_type": "stream",
     "text": [
      "<class 'censusdata.censusgeo.censusgeo'>\n"
     ]
    }
   ],
   "source": [
    "print(type(nyc_geo))"
   ]
  },
  {
   "cell_type": "code",
   "execution_count": 67,
   "id": "24b22ce7",
   "metadata": {},
   "outputs": [
    {
     "ename": "FileNotFoundError",
     "evalue": "[Errno 2] No such file or directory: '/Users/lizjohnson/opt/anaconda3/envs/geo_env/lib/python3.10/site-packages/censusdata/variables/acs5_2008_detail_variables.json'",
     "output_type": "error",
     "traceback": [
      "\u001b[0;31m---------------------------------------------------------------------------\u001b[0m",
      "\u001b[0;31mFileNotFoundError\u001b[0m                         Traceback (most recent call last)",
      "Cell \u001b[0;32mIn [67], line 1\u001b[0m\n\u001b[0;32m----> 1\u001b[0m censusdata\u001b[38;5;241m.\u001b[39mprinttable(\u001b[43mcensusdata\u001b[49m\u001b[38;5;241;43m.\u001b[39;49m\u001b[43mcensustable\u001b[49m\u001b[43m(\u001b[49m\u001b[38;5;124;43m'\u001b[39;49m\u001b[38;5;124;43macs5\u001b[39;49m\u001b[38;5;124;43m'\u001b[39;49m\u001b[43m,\u001b[49m\u001b[43m \u001b[49m\u001b[38;5;124;43m'\u001b[39;49m\u001b[38;5;124;43m2008\u001b[39;49m\u001b[38;5;124;43m'\u001b[39;49m\u001b[43m,\u001b[49m\u001b[43m \u001b[49m\u001b[38;5;124;43m'\u001b[39;49m\u001b[38;5;124;43mB25075\u001b[39;49m\u001b[38;5;124;43m'\u001b[39;49m\u001b[43m)\u001b[49m)\n",
      "File \u001b[0;32m~/opt/anaconda3/envs/geo_env/lib/python3.10/site-packages/censusdata/variable_info.py:100\u001b[0m, in \u001b[0;36mcensustable\u001b[0;34m(src, year, table)\u001b[0m\n\u001b[1;32m     98\u001b[0m \t\u001b[38;5;28;01mraise\u001b[39;00m \u001b[38;5;167;01mValueError\u001b[39;00m(\u001b[38;5;124mu\u001b[39m\u001b[38;5;124m'\u001b[39m\u001b[38;5;124mUnknown table type for table \u001b[39m\u001b[38;5;132;01m{0}\u001b[39;00m\u001b[38;5;124m!\u001b[39m\u001b[38;5;124m'\u001b[39m\u001b[38;5;241m.\u001b[39mformat(table))\n\u001b[1;32m     99\u001b[0m topdir, filename \u001b[38;5;241m=\u001b[39m os\u001b[38;5;241m.\u001b[39mpath\u001b[38;5;241m.\u001b[39msplit(\u001b[38;5;18m__file__\u001b[39m)\n\u001b[0;32m--> 100\u001b[0m \u001b[38;5;28;01mwith\u001b[39;00m \u001b[38;5;28;43mopen\u001b[39;49m\u001b[43m(\u001b[49m\u001b[43mos\u001b[49m\u001b[38;5;241;43m.\u001b[39;49m\u001b[43mpath\u001b[49m\u001b[38;5;241;43m.\u001b[39;49m\u001b[43mjoin\u001b[49m\u001b[43m(\u001b[49m\u001b[43mtopdir\u001b[49m\u001b[43m,\u001b[49m\u001b[43m \u001b[49m\u001b[38;5;124;43m'\u001b[39;49m\u001b[38;5;124;43mvariables\u001b[39;49m\u001b[38;5;124;43m'\u001b[39;49m\u001b[43m,\u001b[49m\u001b[43m \u001b[49m\u001b[38;5;124;43m'\u001b[39;49m\u001b[38;5;132;43;01m{0}\u001b[39;49;00m\u001b[38;5;124;43m_\u001b[39;49m\u001b[38;5;132;43;01m{1}\u001b[39;49;00m\u001b[38;5;124;43m_\u001b[39;49m\u001b[38;5;132;43;01m{2}\u001b[39;49;00m\u001b[38;5;124;43mvariables.json\u001b[39;49m\u001b[38;5;124;43m'\u001b[39;49m\u001b[38;5;241;43m.\u001b[39;49m\u001b[43mformat\u001b[49m\u001b[43m(\u001b[49m\u001b[43msrc\u001b[49m\u001b[43m,\u001b[49m\u001b[43m \u001b[49m\u001b[43myear\u001b[49m\u001b[43m,\u001b[49m\u001b[43m \u001b[49m\u001b[43mtabletype\u001b[49m\u001b[43m)\u001b[49m\u001b[43m)\u001b[49m\u001b[43m)\u001b[49m \u001b[38;5;28;01mas\u001b[39;00m infile:\n\u001b[1;32m    101\u001b[0m \tallvars \u001b[38;5;241m=\u001b[39m infile\u001b[38;5;241m.\u001b[39mread()\n\u001b[1;32m    102\u001b[0m allvars \u001b[38;5;241m=\u001b[39m json\u001b[38;5;241m.\u001b[39mloads(allvars)[\u001b[38;5;124m'\u001b[39m\u001b[38;5;124mvariables\u001b[39m\u001b[38;5;124m'\u001b[39m]\n",
      "\u001b[0;31mFileNotFoundError\u001b[0m: [Errno 2] No such file or directory: '/Users/lizjohnson/opt/anaconda3/envs/geo_env/lib/python3.10/site-packages/censusdata/variables/acs5_2008_detail_variables.json'"
     ]
    }
   ],
   "source": [
    "censusdata.printtable(censusdata.censustable('acs5', '2008', 'B25075'))"
   ]
  },
  {
   "cell_type": "code",
   "execution_count": 42,
   "id": "bbf62247",
   "metadata": {},
   "outputs": [
    {
     "name": "stdout",
     "output_type": "stream",
     "text": [
      "Variable     | Table                          | Label                                                    | Type \n",
      "-------------------------------------------------------------------------------------------------------------------\n",
      "B19013_001E  | MEDIAN HOUSEHOLD INCOME IN THE | !! Estimate Median household income in the past 12 month | int  \n",
      "-------------------------------------------------------------------------------------------------------------------\n"
     ]
    }
   ],
   "source": [
    "censusdata.printtable(censusdata.censustable('acs5', '2019', 'B19013'))"
   ]
  },
  {
   "cell_type": "code",
   "execution_count": null,
   "id": "abe59b9d",
   "metadata": {},
   "outputs": [],
   "source": []
  }
 ],
 "metadata": {
  "kernelspec": {
   "display_name": "Python 3 (ipykernel)",
   "language": "python",
   "name": "python3"
  },
  "language_info": {
   "codemirror_mode": {
    "name": "ipython",
    "version": 3
   },
   "file_extension": ".py",
   "mimetype": "text/x-python",
   "name": "python",
   "nbconvert_exporter": "python",
   "pygments_lexer": "ipython3",
   "version": "3.10.6"
  }
 },
 "nbformat": 4,
 "nbformat_minor": 5
}
